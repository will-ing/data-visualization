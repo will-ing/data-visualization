{
 "cells": [
  {
   "cell_type": "markdown",
   "metadata": {},
   "source": [
    "# Lord of the rings charater lines by movie Data\n",
    "\n"
   ]
  },
  {
   "cell_type": "code",
   "execution_count": 1,
   "metadata": {},
   "outputs": [],
   "source": [
    "import pandas as pd\n",
    "import seaborn as sns\n",
    "import matplotlib as plt\n"
   ]
  },
  {
   "cell_type": "code",
   "execution_count": 23,
   "metadata": {
    "tags": []
   },
   "outputs": [
    {
     "output_type": "execute_result",
     "data": {
      "text/plain": "                         Film                 Chapter  Character    Race  \\\n0  The Fellowship Of The Ring            01: Prologue      Bilbo  Hobbit   \n1  The Fellowship Of The Ring            01: Prologue     Elrond     Elf   \n2  The Fellowship Of The Ring            01: Prologue  Galadriel     Elf   \n3  The Fellowship Of The Ring            01: Prologue     Gollum  Gollum   \n4  The Fellowship Of The Ring  02: Concerning Hobbits      Bilbo  Hobbit   \n\n   Words  \n0      4  \n1      5  \n2    460  \n3     20  \n4    214  ",
      "text/html": "<div>\n<style scoped>\n    .dataframe tbody tr th:only-of-type {\n        vertical-align: middle;\n    }\n\n    .dataframe tbody tr th {\n        vertical-align: top;\n    }\n\n    .dataframe thead th {\n        text-align: right;\n    }\n</style>\n<table border=\"1\" class=\"dataframe\">\n  <thead>\n    <tr style=\"text-align: right;\">\n      <th></th>\n      <th>Film</th>\n      <th>Chapter</th>\n      <th>Character</th>\n      <th>Race</th>\n      <th>Words</th>\n    </tr>\n  </thead>\n  <tbody>\n    <tr>\n      <th>0</th>\n      <td>The Fellowship Of The Ring</td>\n      <td>01: Prologue</td>\n      <td>Bilbo</td>\n      <td>Hobbit</td>\n      <td>4</td>\n    </tr>\n    <tr>\n      <th>1</th>\n      <td>The Fellowship Of The Ring</td>\n      <td>01: Prologue</td>\n      <td>Elrond</td>\n      <td>Elf</td>\n      <td>5</td>\n    </tr>\n    <tr>\n      <th>2</th>\n      <td>The Fellowship Of The Ring</td>\n      <td>01: Prologue</td>\n      <td>Galadriel</td>\n      <td>Elf</td>\n      <td>460</td>\n    </tr>\n    <tr>\n      <th>3</th>\n      <td>The Fellowship Of The Ring</td>\n      <td>01: Prologue</td>\n      <td>Gollum</td>\n      <td>Gollum</td>\n      <td>20</td>\n    </tr>\n    <tr>\n      <th>4</th>\n      <td>The Fellowship Of The Ring</td>\n      <td>02: Concerning Hobbits</td>\n      <td>Bilbo</td>\n      <td>Hobbit</td>\n      <td>214</td>\n    </tr>\n  </tbody>\n</table>\n</div>"
     },
     "metadata": {},
     "execution_count": 23
    }
   ],
   "source": [
    "movie = pd.read_csv('./data/ltr.csv', error_bad_lines=False)\n",
    "movie.head()"
   ]
  },
  {
   "cell_type": "code",
   "execution_count": null,
   "metadata": {},
   "outputs": [],
   "source": []
  }
 ],
 "metadata": {
  "language_info": {
   "codemirror_mode": {
    "name": "ipython",
    "version": 3
   },
   "file_extension": ".py",
   "mimetype": "text/x-python",
   "name": "python",
   "nbconvert_exporter": "python",
   "pygments_lexer": "ipython3",
   "version": "3.8.2-final"
  },
  "orig_nbformat": 2,
  "kernelspec": {
   "name": "python38264bitcd68fb9e31f94373ae2171258907a9eb",
   "display_name": "Python 3.8.2 64-bit"
  }
 },
 "nbformat": 4,
 "nbformat_minor": 2
}